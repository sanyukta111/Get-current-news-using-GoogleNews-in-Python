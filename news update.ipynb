{
 "cells": [
  {
   "cell_type": "code",
   "execution_count": 2,
   "id": "aaef647d-c9a8-4f7f-b81d-bbb6914d174c",
   "metadata": {},
   "outputs": [],
   "source": [
    "from GoogleNews import GoogleNews"
   ]
  },
  {
   "cell_type": "code",
   "execution_count": 3,
   "id": "5d067b21-f536-48d1-9f06-41540b595982",
   "metadata": {},
   "outputs": [],
   "source": [
    "googlenews = GoogleNews()"
   ]
  },
  {
   "cell_type": "code",
   "execution_count": 4,
   "id": "d25b8555-cb0a-424f-a396-06af316ceb6e",
   "metadata": {},
   "outputs": [],
   "source": [
    "googlenews = GoogleNews(period = '7d')"
   ]
  },
  {
   "cell_type": "code",
   "execution_count": 5,
   "id": "e1f2c3eb-79b8-4ea6-b6bb-076b36ef0276",
   "metadata": {},
   "outputs": [],
   "source": [
    "googlenews.search('India')\n",
    "result = googlenews.result()"
   ]
  },
  {
   "cell_type": "code",
   "execution_count": 6,
   "id": "a0ec9bc3-3819-4b17-b164-43e16ba657af",
   "metadata": {},
   "outputs": [
    {
     "name": "stdout",
     "output_type": "stream",
     "text": [
      "--------------------------------------------------\n",
      "Title-- Coronavirus India live updates: Covid cases in 2021 already ...\n",
      "Date/Time-- 6 mins ago\n",
      "Description-- India's full rollout of the Sputnik V Covid-19 vaccine will have to be put on hold until the ... The third wave of the pandemic is “inevitable and imminent”, the Indian ...\n",
      "Link-- https://timesofindia.indiatimes.com/india/coronavirus-india-live-updates-covid-cases-news-july-13-2021/liveblog/84363261.cms\n",
      "--------------------------------------------------\n",
      "Title-- Flipkart: India online retail giant raises $3.6bn in latest round\n",
      "Date/Time-- 34 mins ago\n",
      "Description-- Indian e-commerce giant Flipkart has raised another $3.6bn (£2.6bn) ahead of an expected stock market debut. The Walmart-backed company said it will use ...\n",
      "Link-- https://www.bbc.com/news/business-57815431\n",
      "--------------------------------------------------\n",
      "Title-- Sputnik V vaccine has reached 50 cities, towns in India, says ...\n",
      "Date/Time-- 43 mins ago\n",
      "Description-- Russia's Sputnik V vaccine, which is being produced in India by Dr Reddy's Laboratories, has now reached 50 towns and cities across India. In a statement, Dr ...\n",
      "Link-- https://www.indiatoday.in/coronavirus-outbreak/story/sputnik-v-vaccine-has-reached-50-cities-in-india-1827343-2021-07-13\n",
      "--------------------------------------------------\n",
      "Title-- Buy Graphite India, target price Rs 690: ICICI Securities\n",
      "Date/Time-- 1 hour ago\n",
      "Description-- Graphite India Ltd., incorporated in the year 1974, is a Mid Cap company (having a market cap of Rs 12420.03 Crore) operating in Industrial Consumables sector.\n",
      "Link-- https://economictimes.indiatimes.com/markets/stocks/recos/buy-graphite-india-target-price-rs-690-icici-securities/articleshow/84366367.cms\n",
      "--------------------------------------------------\n",
      "Title-- Buy NBCC (India), target price Rs 60: Yes Securities\n",
      "Date/Time-- 1 hour ago\n",
      "Description-- NBCC (India) Ltd., incorporated in the year 1960, is a Mid Cap company (having a market cap of Rs 9819.00 Crore) operating in Construction sector. Agencies ...\n",
      "Link-- https://economictimes.indiatimes.com/markets/stocks/recos/buy-nbcc-india-target-price-rs-60-yes-securities/articleshow/84366046.cms\n",
      "--------------------------------------------------\n",
      "Title-- Vara raises $4.8M from investors like Go Ventures and ...\n",
      "Date/Time-- 1 hour ago\n",
      "Description-- The company announced today it has raised $4.8 million in seed funding from Go Ventures, RTP Global, AlphaJWC, Sequoia Capital India's Surge, FEBE ...\n",
      "Link-- https://techcrunch.com/2021/07/12/vara-raises-4-8m-from-investors-like-go-ventures-and-sequoia-indias-surge-to-digitize-indonesian-smes-payrolls/\n",
      "--------------------------------------------------\n",
      "Title-- Buy Welspun India, target price Rs 122: Yes Securities\n",
      "Date/Time-- 1 hour ago\n",
      "Description-- Welspun India Ltd., incorporated in the year 1985, is a Mid Cap company (having a market cap of Rs 11458.89 Crore) operating in Textiles sector. Did you Know?\n",
      "Link-- https://economictimes.indiatimes.com/markets/stocks/recos/buy-welspun-india-target-price-rs-122-yes-securities/articleshow/84365906.cms\n",
      "--------------------------------------------------\n",
      "Title-- 15 Jamaat-ul- Mujahideen Bangladesh terrorists entered India ...\n",
      "Date/Time-- 2 hours ago\n",
      "Description-- At least 15 terrorists belonging to JMB have entered West Bengal from Bangladesh earlier and 10 of them moved to different parts of India, including Jammu and ...\n",
      "Link-- https://www.indiatoday.in/india/story/jmb-terrorists-entered-india-moved-kashmir-other-states-report-1827317-2021-07-13\n",
      "--------------------------------------------------\n",
      "Title-- Sheroes Hangout offers lifeline to India's acid attack survivors\n",
      "Date/Time-- 3 hours ago\n",
      "Description-- (CNN) — Up until recently, many travelers visiting India's famed monument of love, the Taj Mahal, would also add a stop at the nearby Sheroes Hangout to their ...\n",
      "Link-- https://www.cnn.com/travel/article/taj-mahal-india-sheroes-hangout-cmd/index.html\n",
      "--------------------------------------------------\n",
      "Title-- 'It's a different thing if you see WTC as a big failure': Former ...\n",
      "Date/Time-- 3 hours ago\n",
      "Description-- India's defeat in the World Test Championship final against New Zealand at Southampton has posed some questions for the Virat Kohli-led Indian team as fans ...\n",
      "Link-- https://www.hindustantimes.com/cricket/ravi-shastri-has-done-a-commendable-job-in-last-two-years-saba-karim-101626140350268.html\n"
     ]
    }
   ],
   "source": [
    "for x in result:\n",
    "    print(\"-\"*50)\n",
    "    print(\"Title--\", x['title'])\n",
    "    print(\"Date/Time--\", x['date'])\n",
    "    print(\"Description--\", x['desc'])\n",
    "    print(\"Link--\", x['link'])"
   ]
  }
 ],
 "metadata": {
  "kernelspec": {
   "display_name": "Python 3",
   "language": "python",
   "name": "python3"
  },
  "language_info": {
   "codemirror_mode": {
    "name": "ipython",
    "version": 3
   },
   "file_extension": ".py",
   "mimetype": "text/x-python",
   "name": "python",
   "nbconvert_exporter": "python",
   "pygments_lexer": "ipython3",
   "version": "3.9.5"
  }
 },
 "nbformat": 4,
 "nbformat_minor": 5
}
